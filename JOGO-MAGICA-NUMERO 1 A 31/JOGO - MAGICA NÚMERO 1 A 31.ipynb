{
 "cells": [
  {
   "cell_type": "code",
   "execution_count": 11,
   "id": "e5b7071a",
   "metadata": {},
   "outputs": [
    {
     "name": "stdout",
     "output_type": "stream",
     "text": [
      "Pense em um número de 1 a 31.\n",
      "[1, 3, 5, 7, 9, 11, 13, 15, 17, 19, 21, 23, 25, 27, 29, 31]\n",
      "Seu número esta na lista acima? sim ou não:não\n",
      "[2, 3, 6, 7, 10, 11, 14, 15, 18, 19, 22, 23, 26, 27, 30, 31]\n",
      "Seu número esta na lista acima? sim ou não:sim\n",
      "[4, 5, 6, 7, 12, 13, 14, 15, 20, 21, 23, 28, 29, 30, 31]\n",
      "Seu número esta na lista acima? sim ou não:não\n",
      "[8, 9, 10, 11, 12, 13, 14, 15, 24, 25, 26, 27, 28, 29, 30, 31]\n",
      "Seu número esta na lista acima? sim ou não:sim\n",
      "[16, 17, 18, 19, 20, 21, 22, 23, 24, 25, 26, 27, 28, 29, 30, 31]\n",
      "Seu número esta na lista acima? sim ou não:não\n",
      "O seu número é o 10 !!!!!\n"
     ]
    }
   ],
   "source": [
    "import requests\n",
    "from tkinter import *\n",
    "from tkinter import Label\n",
    "\n",
    "\n",
    "def magica():\n",
    "    \n",
    "    print(\"Pense em um número de 1 a 31.\")\n",
    "\n",
    "    \n",
    "    l1=[1,3,5,7,9,11,13,15,17,19,21,23,25,27,29,31]\n",
    "    print (l1)\n",
    "\n",
    "    x1 = str(input(\"Seu número esta na lista acima? sim ou não:\"))\n",
    "\n",
    "    if x1==\"sim\":\n",
    "        x1=1\n",
    "    else:\n",
    "        x1=0\n",
    "\n",
    "    l2=[2,3,6,7,10,11,14,15,18,19,22,23,26,27,30,31]\n",
    "    print(l2)\n",
    "\n",
    "    x2 = str(input(\"Seu número esta na lista acima? sim ou não:\"))\n",
    "\n",
    "    if x2 ==\"sim\":\n",
    "        x2=2\n",
    "    else:\n",
    "        x2=0\n",
    "        \n",
    "    l3=[4,5,6,7,12,13,14,15,20,21,23,28,29,30,31]\n",
    "    print(l3)\n",
    "\n",
    "    x3 = str(input(\"Seu número esta na lista acima? sim ou não:\"))\n",
    "\n",
    "    if x3 == \"sim\":\n",
    "        x3=4\n",
    "    else:\n",
    "        x3=0\n",
    "        \n",
    "    l4=[8,9,10,11,12,13,14,15,24,25,26,27,28,29,30,31]\n",
    "    print(l4)\n",
    "\n",
    "    x4 = str(input(\"Seu número esta na lista acima? sim ou não:\"))\n",
    "\n",
    "    if x4 == \"sim\":\n",
    "        x4=8\n",
    "    else:\n",
    "        x4=0\n",
    "    \n",
    "    l5=[16,17,18,19,20,21,22,23,24,25,26,27,28,29,30,31]\n",
    "    print(l5)\n",
    "\n",
    "    x5 = str(input(\"Seu número esta na lista acima? sim ou não:\"))\n",
    "\n",
    "    if x5 == \"sim\":\n",
    "        x5=16\n",
    "    else:\n",
    "        x5=0\n",
    "        \n",
    "    print(\"O seu número é o\", x1+x2+x3+x4+x5,\"!!!!!\")\n",
    "    \n",
    "magica()\n"
   ]
  },
  {
   "cell_type": "code",
   "execution_count": null,
   "id": "13de330e",
   "metadata": {},
   "outputs": [],
   "source": []
  },
  {
   "cell_type": "code",
   "execution_count": null,
   "id": "a98de2a7",
   "metadata": {},
   "outputs": [],
   "source": []
  },
  {
   "cell_type": "code",
   "execution_count": null,
   "id": "ec7ada78",
   "metadata": {},
   "outputs": [],
   "source": []
  }
 ],
 "metadata": {
  "kernelspec": {
   "display_name": "Python 3 (ipykernel)",
   "language": "python",
   "name": "python3"
  },
  "language_info": {
   "codemirror_mode": {
    "name": "ipython",
    "version": 3
   },
   "file_extension": ".py",
   "mimetype": "text/x-python",
   "name": "python",
   "nbconvert_exporter": "python",
   "pygments_lexer": "ipython3",
   "version": "3.9.7"
  },
  "widgets": {
   "application/vnd.jupyter.widget-state+json": {
    "state": {},
    "version_major": 2,
    "version_minor": 0
   }
  }
 },
 "nbformat": 4,
 "nbformat_minor": 5
}
