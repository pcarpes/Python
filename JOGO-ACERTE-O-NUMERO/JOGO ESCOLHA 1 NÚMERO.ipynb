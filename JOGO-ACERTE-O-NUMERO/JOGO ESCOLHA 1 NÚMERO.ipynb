{
 "cells": [
  {
   "cell_type": "code",
   "execution_count": 9,
   "id": "d0a43fde",
   "metadata": {},
   "outputs": [
    {
     "name": "stdout",
     "output_type": "stream",
     "text": [
      "Choose a number: 1\n",
      "1 You won\n"
     ]
    }
   ],
   "source": [
    "import random\n",
    "l=[1,2,3]\n",
    "random.shuffle(l)\n",
    "\n",
    "\n",
    "num = int(input(\"Choose a number: \"))\n",
    "if num == l[0]:\n",
    "    print(num, \"You won\")\n",
    "    \n",
    "else:\n",
    "    print(num,\"You lose\")"
   ]
  },
  {
   "cell_type": "code",
   "execution_count": null,
   "id": "f6892304",
   "metadata": {},
   "outputs": [],
   "source": []
  }
 ],
 "metadata": {
  "kernelspec": {
   "display_name": "Python 3 (ipykernel)",
   "language": "python",
   "name": "python3"
  },
  "language_info": {
   "codemirror_mode": {
    "name": "ipython",
    "version": 3
   },
   "file_extension": ".py",
   "mimetype": "text/x-python",
   "name": "python",
   "nbconvert_exporter": "python",
   "pygments_lexer": "ipython3",
   "version": "3.9.7"
  }
 },
 "nbformat": 4,
 "nbformat_minor": 5
}
